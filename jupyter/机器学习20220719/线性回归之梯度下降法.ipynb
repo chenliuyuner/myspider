{
 "cells": [
  {
   "cell_type": "code",
   "execution_count": 7,
   "id": "fd657ebf",
   "metadata": {},
   "outputs": [],
   "source": [
    "import numpy as np\n",
    "def Deta_theta(x,y,theta):\n",
    "    m=x.shape[0]\n",
    "    n=theta.T.dot(x)-y\n",
    "    for i in range(1, m):\n",
    "        deta_theta[i]=1/m*n.dot(x)\n",
    "    return deta_theta"
   ]
  },
  {
   "cell_type": "code",
   "execution_count": 5,
   "id": "2bb06416",
   "metadata": {},
   "outputs": [],
   "source": [
    "def linear_regression(x,y,init_theta,n_iters=1e4,epsilon=1e-8):#init_theta，x，y都是一个m行一列的\n",
    "    i_iter=0\n",
    "    theat=init_theta\n",
    "    while i_iter < n_iters:\n",
    "        gradient=Deta_theta(x,y,theta)\n",
    "        theta= theta-a*gradient\n",
    "        if (abs(Deta_theta(x,y,theta) - Deta_theta(x,y,theta)) < epsilon):\n",
    "            break\n",
    "        i_iter += 1\n",
    "    return theta"
   ]
  },
  {
   "cell_type": "code",
   "execution_count": null,
   "id": "36b20f5a",
   "metadata": {},
   "outputs": [],
   "source": []
  }
 ],
 "metadata": {
  "kernelspec": {
   "display_name": "Python 3 (ipykernel)",
   "language": "python",
   "name": "python3"
  },
  "language_info": {
   "codemirror_mode": {
    "name": "ipython",
    "version": 3
   },
   "file_extension": ".py",
   "mimetype": "text/x-python",
   "name": "python",
   "nbconvert_exporter": "python",
   "pygments_lexer": "ipython3",
   "version": "3.9.2"
  }
 },
 "nbformat": 4,
 "nbformat_minor": 5
}
